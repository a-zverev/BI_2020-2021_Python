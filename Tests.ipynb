{
 "cells": [
  {
   "cell_type": "code",
   "execution_count": 1,
   "id": "relative-profile",
   "metadata": {},
   "outputs": [],
   "source": [
    "!export PYTHONPATH=\"$PYTHONPATH:/home/a-zverev/BI/Tests\""
   ]
  },
  {
   "cell_type": "code",
   "execution_count": 2,
   "id": "political-position",
   "metadata": {},
   "outputs": [],
   "source": [
    "import unittest"
   ]
  },
  {
   "cell_type": "markdown",
   "id": "increasing-labor",
   "metadata": {},
   "source": [
    "### Classes tests"
   ]
  },
  {
   "cell_type": "code",
   "execution_count": 3,
   "id": "developing-vienna",
   "metadata": {},
   "outputs": [],
   "source": [
    "from classes import *"
   ]
  },
  {
   "cell_type": "code",
   "execution_count": 4,
   "id": "certain-sailing",
   "metadata": {},
   "outputs": [],
   "source": [
    "class DnaTests(unittest.TestCase):\n",
    "    def test_DNA_correct_init_seq(self):\n",
    "        self.assertIsInstance(DNA(), DNA)\n",
    "        self.assertIsInstance(DNA('ACGT'), DNA)\n",
    "        \n",
    "    def test_DNA_init_seq_wrong_U_contain(self):\n",
    "        self.assertRaises(ValueError, DNA, 'ACGU')\n",
    "        \n",
    "    def test_DNA_init_seq_wrong_other_letters_contain(self):\n",
    "        self.assertRaises(ValueError, DNA, 'ACGR')\n",
    "        \n",
    "    def test_trancribe_DNA_to_RNA(self):\n",
    "        self.assertEqual(DNA('ACGT').transcribe(), RNA('ACGU'))\n",
    "        \n",
    "class RnaTests(unittest.TestCase):\n",
    "    def test_RNA_correct_init_seq(self):\n",
    "        self.assertIsInstance(RNA(), RNA)\n",
    "        self.assertIsInstance(RNA('ACGU'), RNA)\n",
    "        \n",
    "    def test_RNA_init_seq_wrong_T_contain(self):\n",
    "        self.assertRaises(ValueError, RNA, 'ACGT')\n",
    "        \n",
    "    def test_RNA_init_seq_wrong_other_letters_contain(self):\n",
    "        self.assertRaises(ValueError, RNA, 'ACGR')\n",
    "        \n",
    "class NucleicAcidsTests(unittest.TestCase):\n",
    "    def test_Nucleic_Acids_seq_is_uppercase(self):\n",
    "        self.assertEqual(DNA('ATgc').seq, 'ATGC')\n",
    "        self.assertEqual(RNA('AUgc').seq, 'AUGC')\n",
    "        \n",
    "    def test_Nucleic_Acids_reverse_compliment(self):\n",
    "        self.assertEqual(DNA('ATGC').reverse_compliment(), 'GCAT')\n",
    "        self.assertEqual(RNA('AUGC').reverse_compliment(), 'GCAU')\n",
    "        \n",
    "    def test_Nucleic_Acids_GC_content(self):\n",
    "        self.assertEqual(DNA('ATGC').gc_content(), 0.5)\n",
    "        self.assertEqual(RNA('AUGC').gc_content(), 0.5)\n",
    "        \n",
    "    def test_Nucleic_Acids_GC_content_empty_string(self):\n",
    "        self.assertIsNone(DNA('').gc_content())\n",
    "        self.assertIsNone(RNA('').gc_content()) \n",
    "        \n",
    "    def test_Nucleic_Acids_equal_objects(self):\n",
    "        self.assertEqual(DNA('AGTC'), DNA('AGTC'))\n",
    "        self.assertEqual(RNA('AGUC'), RNA('AGUC'))\n",
    "        \n",
    "    def test_Nucleic_Acids_non_equal_objects_different_classes (self):\n",
    "        self.assertNotEqual(DNA('AGAG'), RNA('AGAG'))\n",
    "        self.assertNotEqual(RNA('AGUC'), 'AGUC')\n",
    "        \n",
    "    def test_Nucleic_Acids_is_fair_iterator(self):\n",
    "        DNA_gen = iter(DNA('AGCT'))\n",
    "        self.assertEqual(next(DNA_gen), 'A')\n",
    "        self.assertEqual(next(DNA_gen), 'G')\n",
    "        next(DNA_gen)\n",
    "        next(DNA_gen)\n",
    "        self.assertRaises(StopIteration, next, DNA_gen)\n",
    "    \n",
    "    def test_Nucleic_Acids_two_iterators_are_different(self):\n",
    "        x = DNA('AGCT')\n",
    "        iter1 = iter(x)\n",
    "        iter2 = iter(x)\n",
    "        next(iter1)\n",
    "        self.assertNotEqual(next(iter1), next(iter2))"
   ]
  },
  {
   "cell_type": "code",
   "execution_count": 5,
   "id": "subtle-extra",
   "metadata": {
    "scrolled": false
   },
   "outputs": [
    {
     "name": "stderr",
     "output_type": "stream",
     "text": [
      "test_DNA_correct_init_seq (__main__.DnaTests) ... ok\n",
      "test_DNA_init_seq_wrong_U_contain (__main__.DnaTests) ... ok\n",
      "test_DNA_init_seq_wrong_other_letters_contain (__main__.DnaTests) ... ok\n",
      "test_trancribe_DNA_to_RNA (__main__.DnaTests) ... ok\n",
      "test_Nucleic_Acids_GC_content (__main__.NucleicAcidsTests) ... ok\n",
      "test_Nucleic_Acids_GC_content_empty_string (__main__.NucleicAcidsTests) ... ok\n",
      "test_Nucleic_Acids_equal_objects (__main__.NucleicAcidsTests) ... ok\n",
      "test_Nucleic_Acids_is_fair_iterator (__main__.NucleicAcidsTests) ... ok\n",
      "test_Nucleic_Acids_non_equal_objects_different_classes (__main__.NucleicAcidsTests) ... ok\n",
      "test_Nucleic_Acids_reverse_compliment (__main__.NucleicAcidsTests) ... ok\n",
      "test_Nucleic_Acids_seq_is_uppercase (__main__.NucleicAcidsTests) ... ok\n",
      "test_Nucleic_Acids_two_iterators_are_different (__main__.NucleicAcidsTests) ... ok\n",
      "test_RNA_correct_init_seq (__main__.RnaTests) ... ok\n",
      "test_RNA_init_seq_wrong_T_contain (__main__.RnaTests) ... ok\n",
      "test_RNA_init_seq_wrong_other_letters_contain (__main__.RnaTests) ... ok\n",
      "\n",
      "----------------------------------------------------------------------\n",
      "Ran 15 tests in 0.016s\n",
      "\n",
      "OK\n"
     ]
    }
   ],
   "source": [
    "unittest.main(argv=[''], verbosity=2, exit=False);"
   ]
  },
  {
   "cell_type": "code",
   "execution_count": null,
   "id": "coordinate-memorial",
   "metadata": {},
   "outputs": [],
   "source": []
  }
 ],
 "metadata": {
  "kernelspec": {
   "display_name": "Python 3",
   "language": "python",
   "name": "python3"
  },
  "language_info": {
   "codemirror_mode": {
    "name": "ipython",
    "version": 3
   },
   "file_extension": ".py",
   "mimetype": "text/x-python",
   "name": "python",
   "nbconvert_exporter": "python",
   "pygments_lexer": "ipython3",
   "version": "3.9.2"
  }
 },
 "nbformat": 4,
 "nbformat_minor": 5
}
