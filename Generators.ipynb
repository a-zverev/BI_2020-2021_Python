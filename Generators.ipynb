{
 "cells": [
  {
   "cell_type": "code",
   "execution_count": 81,
   "metadata": {},
   "outputs": [
    {
     "name": "stdout",
     "output_type": "stream",
     "text": [
      "The pycodestyle_magic extension is already loaded. To reload it, use:\n",
      "  %reload_ext pycodestyle_magic\n"
     ]
    }
   ],
   "source": [
    "%load_ext pycodestyle_magic\n",
    "%flake8_on"
   ]
  },
  {
   "cell_type": "code",
   "execution_count": 82,
   "metadata": {},
   "outputs": [],
   "source": [
    "from itertools import permutations\n",
    "from Bio import SeqIO"
   ]
  },
  {
   "cell_type": "code",
   "execution_count": 84,
   "metadata": {},
   "outputs": [
    {
     "name": "stdout",
     "output_type": "stream",
     "text": [
      "A\n",
      "G\n"
     ]
    },
    {
     "data": {
      "text/plain": [
       "['T',\n",
       " 'C',\n",
       " 'AG',\n",
       " 'AT',\n",
       " 'AC',\n",
       " 'GA',\n",
       " 'GT',\n",
       " 'GC',\n",
       " 'TA',\n",
       " 'TG',\n",
       " 'TC',\n",
       " 'CA',\n",
       " 'CG',\n",
       " 'CT']"
      ]
     },
     "execution_count": 84,
     "metadata": {},
     "output_type": "execute_result"
    }
   ],
   "source": [
    "# 1. Generate all variants of sequence length from 1 to n\n",
    "\n",
    "def generate_seq(n):\n",
    "    \"\"\"Yield all possible combination of sequence length from 1 to n\"\"\"\n",
    "    for num_letters in range(1, n+1):\n",
    "        yield from(\"\".join(i) for i in permutations(\"AGTC\", num_letters))\n",
    "\n",
    "\n",
    "data = generate_seq(2)\n",
    "print(next(data))\n",
    "print(next(data))\n",
    "list(data)"
   ]
  },
  {
   "cell_type": "code",
   "execution_count": 86,
   "metadata": {},
   "outputs": [
    {
     "name": "stdout",
     "output_type": "stream",
     "text": [
      "['random sequence 1', 'PLFLRHSRGLS*RLAFPRVRLDSNSA*SSS*LMGTARRQLALRPA*EAKL*SCHLERQTP']\n",
      "['random sequence 2', '*PPPAGRLVRNNASKSEHQKRSDASRGVRIGYTSLQ*IEAGAMVTIAH*H*TTDCLQVCQ']\n"
     ]
    },
    {
     "data": {
      "text/plain": [
       "[['random sequence 3',\n",
       "  'QPSRV*DGLVPFPRAVGPARLTWTLAVRLYDPILVVFDQSQNATSYYGDT*VRLTYLLQL'],\n",
       " ['random sequence 4',\n",
       "  'HELDPRIWRRVAIP*VSSPAVTS*NPHAPRNLVSGVRAA*IDY*FTVGL*ACVLYFLNVW'],\n",
       " ['random sequence 5',\n",
       "  'GQRAFAF*PVRVTARLSNCVVAGLQRHIPSKKLYWSK*RILKDNER*LRRALKIRHTSSS'],\n",
       " ['random sequence 6',\n",
       "  'YKPRGALVVRL*LMRTVRPIPTPLA*PGRADVLIRKDTPFELDVATL*PPRRRYLRILFL'],\n",
       " ['random sequence 7',\n",
       "  'RLRHPSHYAEGLKLNSIE*SVVRRLNCATPRQAK*QRHAFDRVTCTQTRATKVIDALDNI'],\n",
       " ['random sequence 8',\n",
       "  'VAVLLVTRMRTDAKSGSDRIDRSRSDARVPSYKSL*VSHGSRSLCRLAPSSRTRAQPVVV'],\n",
       " ['random sequence 9',\n",
       "  'LNGDQIHTCML*CDRIALSRLQTNLRRFSFVTLIPSHFTSRVDDCYWLP*SIPADASSLL'],\n",
       " ['random sequence 10',\n",
       "  'RSRDSRLLPLRLNADPSRPHTEVAFSPNRVQNSCRFGECK*RTDKGIHNRQGRYTQCTRY']]"
      ]
     },
     "execution_count": 86,
     "metadata": {},
     "output_type": "execute_result"
    }
   ],
   "source": [
    "# 2. Read and translate fasta\n",
    "\n",
    "def translate_fasta(file, table=\"Standard\"):\n",
    "    \"\"\"Read fasta file and yield fasta header and translated seq. By default\n",
    "    we use standard table, for alternative use number of tables from here:\n",
    "    https://www.ncbi.nlm.nih.gov/Taxonomy/Utils/wprintgc.cgi\"\"\"\n",
    "    with open(file, \"r\") as handle:\n",
    "        for record in SeqIO.parse(handle, \"fasta\"):\n",
    "            yield [record.description, str(record.seq.translate(table=table))]\n",
    "\n",
    "\n",
    "data = translate_fasta('random.fasta')\n",
    "print(next(data))\n",
    "print(next(data))\n",
    "list(data)"
   ]
  }
 ],
 "metadata": {
  "kernelspec": {
   "display_name": "Python 3",
   "language": "python",
   "name": "python3"
  },
  "language_info": {
   "codemirror_mode": {
    "name": "ipython",
    "version": 3
   },
   "file_extension": ".py",
   "mimetype": "text/x-python",
   "name": "python",
   "nbconvert_exporter": "python",
   "pygments_lexer": "ipython3",
   "version": "3.7.3"
  }
 },
 "nbformat": 4,
 "nbformat_minor": 4
}
